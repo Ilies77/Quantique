{
 "cells": [
  {
   "cell_type": "code",
   "execution_count": 1,
   "id": "1756ac21-e867-4fc0-a66d-e10680cbafa7",
   "metadata": {
    "tags": []
   },
   "outputs": [
    {
     "name": "stdout",
     "output_type": "stream",
     "text": [
      "Requirement already satisfied: qiskit in c:\\users\\ilies\\anaconda3\\lib\\site-packages (0.45.0)\n",
      "Requirement already satisfied: qiskit-terra==0.45.0 in c:\\users\\ilies\\anaconda3\\lib\\site-packages (from qiskit) (0.45.0)\n",
      "Requirement already satisfied: rustworkx>=0.13.0 in c:\\users\\ilies\\anaconda3\\lib\\site-packages (from qiskit-terra==0.45.0->qiskit) (0.13.2)\n",
      "Requirement already satisfied: numpy<2,>=1.17 in c:\\users\\ilies\\anaconda3\\lib\\site-packages (from qiskit-terra==0.45.0->qiskit) (1.24.3)\n",
      "Requirement already satisfied: ply>=3.10 in c:\\users\\ilies\\anaconda3\\lib\\site-packages (from qiskit-terra==0.45.0->qiskit) (3.11)\n",
      "Requirement already satisfied: psutil>=5 in c:\\users\\ilies\\anaconda3\\lib\\site-packages (from qiskit-terra==0.45.0->qiskit) (5.9.0)\n",
      "Requirement already satisfied: scipy>=1.5 in c:\\users\\ilies\\anaconda3\\lib\\site-packages (from qiskit-terra==0.45.0->qiskit) (1.11.1)\n",
      "Requirement already satisfied: sympy>=1.3 in c:\\users\\ilies\\anaconda3\\lib\\site-packages (from qiskit-terra==0.45.0->qiskit) (1.11.1)\n",
      "Requirement already satisfied: dill>=0.3 in c:\\users\\ilies\\anaconda3\\lib\\site-packages (from qiskit-terra==0.45.0->qiskit) (0.3.6)\n",
      "Requirement already satisfied: python-dateutil>=2.8.0 in c:\\users\\ilies\\anaconda3\\lib\\site-packages (from qiskit-terra==0.45.0->qiskit) (2.8.2)\n",
      "Requirement already satisfied: stevedore>=3.0.0 in c:\\users\\ilies\\anaconda3\\lib\\site-packages (from qiskit-terra==0.45.0->qiskit) (5.1.0)\n",
      "Requirement already satisfied: six>=1.5 in c:\\users\\ilies\\anaconda3\\lib\\site-packages (from python-dateutil>=2.8.0->qiskit-terra==0.45.0->qiskit) (1.16.0)\n",
      "Requirement already satisfied: pbr!=2.1.0,>=2.0.0 in c:\\users\\ilies\\anaconda3\\lib\\site-packages (from stevedore>=3.0.0->qiskit-terra==0.45.0->qiskit) (6.0.0)\n",
      "Requirement already satisfied: mpmath>=0.19 in c:\\users\\ilies\\anaconda3\\lib\\site-packages (from sympy>=1.3->qiskit-terra==0.45.0->qiskit) (1.3.0)\n",
      "Requirement already satisfied: pylatexenc in c:\\users\\ilies\\anaconda3\\lib\\site-packages (2.10)\n",
      "Requirement already satisfied: qiskit-aer in c:\\users\\ilies\\anaconda3\\lib\\site-packages (0.13.1)\n",
      "Requirement already satisfied: qiskit>=0.44.0 in c:\\users\\ilies\\anaconda3\\lib\\site-packages (from qiskit-aer) (0.45.0)\n",
      "Requirement already satisfied: numpy>=1.16.3 in c:\\users\\ilies\\anaconda3\\lib\\site-packages (from qiskit-aer) (1.24.3)\n",
      "Requirement already satisfied: scipy>=1.0 in c:\\users\\ilies\\anaconda3\\lib\\site-packages (from qiskit-aer) (1.11.1)\n",
      "Requirement already satisfied: psutil>=5 in c:\\users\\ilies\\anaconda3\\lib\\site-packages (from qiskit-aer) (5.9.0)\n",
      "Requirement already satisfied: qiskit-terra==0.45.0 in c:\\users\\ilies\\anaconda3\\lib\\site-packages (from qiskit>=0.44.0->qiskit-aer) (0.45.0)\n",
      "Requirement already satisfied: rustworkx>=0.13.0 in c:\\users\\ilies\\anaconda3\\lib\\site-packages (from qiskit-terra==0.45.0->qiskit>=0.44.0->qiskit-aer) (0.13.2)\n",
      "Requirement already satisfied: ply>=3.10 in c:\\users\\ilies\\anaconda3\\lib\\site-packages (from qiskit-terra==0.45.0->qiskit>=0.44.0->qiskit-aer) (3.11)\n",
      "Requirement already satisfied: sympy>=1.3 in c:\\users\\ilies\\anaconda3\\lib\\site-packages (from qiskit-terra==0.45.0->qiskit>=0.44.0->qiskit-aer) (1.11.1)\n",
      "Requirement already satisfied: dill>=0.3 in c:\\users\\ilies\\anaconda3\\lib\\site-packages (from qiskit-terra==0.45.0->qiskit>=0.44.0->qiskit-aer) (0.3.6)\n",
      "Requirement already satisfied: python-dateutil>=2.8.0 in c:\\users\\ilies\\anaconda3\\lib\\site-packages (from qiskit-terra==0.45.0->qiskit>=0.44.0->qiskit-aer) (2.8.2)\n",
      "Requirement already satisfied: stevedore>=3.0.0 in c:\\users\\ilies\\anaconda3\\lib\\site-packages (from qiskit-terra==0.45.0->qiskit>=0.44.0->qiskit-aer) (5.1.0)\n",
      "Requirement already satisfied: six>=1.5 in c:\\users\\ilies\\anaconda3\\lib\\site-packages (from python-dateutil>=2.8.0->qiskit-terra==0.45.0->qiskit>=0.44.0->qiskit-aer) (1.16.0)\n",
      "Requirement already satisfied: pbr!=2.1.0,>=2.0.0 in c:\\users\\ilies\\anaconda3\\lib\\site-packages (from stevedore>=3.0.0->qiskit-terra==0.45.0->qiskit>=0.44.0->qiskit-aer) (6.0.0)\n",
      "Requirement already satisfied: mpmath>=0.19 in c:\\users\\ilies\\anaconda3\\lib\\site-packages (from sympy>=1.3->qiskit-terra==0.45.0->qiskit>=0.44.0->qiskit-aer) (1.3.0)\n"
     ]
    }
   ],
   "source": [
    "!pip install qiskit\n",
    "!pip install pylatexenc\n",
    "!pip install qiskit-aer"
   ]
  },
  {
   "cell_type": "code",
   "execution_count": null,
   "id": "6315914b-c0c7-4259-add9-5163dfc84ccb",
   "metadata": {},
   "outputs": [],
   "source": [
    "#On installe qiskit, pylatexenc et qiskit-aer"
   ]
  },
  {
   "cell_type": "code",
   "execution_count": 2,
   "id": "4c173476-4490-4d7e-802d-fa891f6416ed",
   "metadata": {
    "tags": []
   },
   "outputs": [],
   "source": [
    "import numpy as np\n",
    "import qiskit\n",
    "import matplotlib\n",
    "from qiskit import *\n",
    "from qiskit import *\n",
    "from qiskit.visualization import circuit_drawer\n",
    "from qiskit import QuantumRegister, ClassicalRegister, QuantumCircuit, Aer, execute"
   ]
  },
  {
   "cell_type": "code",
   "execution_count": null,
   "id": "bc33fd1e-90fb-4cad-957c-9873f35fc9a6",
   "metadata": {},
   "outputs": [],
   "source": [
    "#On importe toute les bibliothèque nécessaire (numpy, transpile, circuit_drawer, matplotlib, ...)"
   ]
  },
  {
   "cell_type": "code",
   "execution_count": 3,
   "id": "ef99d231-1848-421c-a81f-34ef7365aafa",
   "metadata": {
    "tags": []
   },
   "outputs": [],
   "source": [
    "q = QuantumRegister(8)\n",
    "c = ClassicalRegister(8)\n",
    "circ = QuantumCircuit(q, c)"
   ]
  },
  {
   "cell_type": "code",
   "execution_count": null,
   "id": "b9f58ee9-6fb0-4dba-83d9-3a956b2d63cf",
   "metadata": {},
   "outputs": [],
   "source": [
    "##Alice,Dalia,  Bob, et Charlie sont représentés par un registre quantique (q) de 8 qubits, chacun ayant la possibilité d'être dans un état superposé (Hadamard est appliqué à tous les qubits)."
   ]
  },
  {
   "cell_type": "code",
   "execution_count": 4,
   "id": "a608d87f-9a7d-4dd0-9e13-acb08143ba87",
   "metadata": {
    "tags": []
   },
   "outputs": [
    {
     "data": {
      "text/plain": [
       "<qiskit.circuit.instructionset.InstructionSet at 0x13918679300>"
      ]
     },
     "execution_count": 4,
     "metadata": {},
     "output_type": "execute_result"
    }
   ],
   "source": [
    "circ.h(q[0:8])"
   ]
  },
  {
   "cell_type": "code",
   "execution_count": null,
   "id": "b6491bfc-e14b-4ebc-82c5-fc967912ddb6",
   "metadata": {},
   "outputs": [],
   "source": [
    "##Chaque personne (représentée par un qubit) applique la porte Hadamard, plaçant son qubit dans une superposition d'états."
   ]
  },
  {
   "cell_type": "code",
   "execution_count": 5,
   "id": "7f8244a7-15b0-450c-b32c-c69156bac9de",
   "metadata": {
    "tags": []
   },
   "outputs": [
    {
     "data": {
      "text/plain": [
       "<qiskit.circuit.instructionset.InstructionSet at 0x13918679390>"
      ]
     },
     "execution_count": 5,
     "metadata": {},
     "output_type": "execute_result"
    }
   ],
   "source": [
    "circ.barrier()"
   ]
  },
  {
   "cell_type": "code",
   "execution_count": 6,
   "id": "c5ab9ed0-7b9d-47aa-8e18-7bc7326f7a9f",
   "metadata": {
    "tags": []
   },
   "outputs": [
    {
     "data": {
      "text/plain": [
       "<qiskit.circuit.instructionset.InstructionSet at 0x13918679cf0>"
      ]
     },
     "execution_count": 6,
     "metadata": {},
     "output_type": "execute_result"
    }
   ],
   "source": [
    "circ.cx(1,4)\n",
    "circ.cx(2,4)\n",
    "circ.cx(3,4)\n",
    "circ.barrier()"
   ]
  },
  {
   "cell_type": "code",
   "execution_count": null,
   "id": "2cdf5bbe-824f-4451-bc71-23c1b566fe26",
   "metadata": {},
   "outputs": [],
   "source": [
    "##Alice dit au autre tout ce qu'elle vois devant elle"
   ]
  },
  {
   "cell_type": "code",
   "execution_count": 7,
   "id": "4b6c0141-897c-414b-9af7-e8e86f432858",
   "metadata": {
    "tags": []
   },
   "outputs": [
    {
     "data": {
      "text/html": [
       "<pre style=\"word-wrap: normal;white-space: pre;background: #fff0;line-height: 1.1;font-family: &quot;Courier New&quot;,Courier,monospace\">      ┌───┐ ░                \n",
       "q0_0: ┤ H ├─░────────────────\n",
       "      ├───┤ ░                \n",
       "q0_1: ┤ H ├─░───■────────────\n",
       "      ├───┤ ░   │            \n",
       "q0_2: ┤ H ├─░───┼────■───────\n",
       "      ├───┤ ░   │    │       \n",
       "q0_3: ┤ H ├─░───┼────┼────■──\n",
       "      ├───┤ ░ ┌─┴─┐┌─┴─┐┌─┴─┐\n",
       "q0_4: ┤ H ├─░─┤ X ├┤ X ├┤ X ├\n",
       "      ├───┤ ░ └───┘└───┘└───┘\n",
       "q0_5: ┤ H ├─░────────────────\n",
       "      ├───┤ ░                \n",
       "q0_6: ┤ H ├─░────────────────\n",
       "      ├───┤ ░                \n",
       "q0_7: ┤ H ├─░────────────────\n",
       "      └───┘ ░                \n",
       "c0: 8/═══════════════════════\n",
       "                             </pre>"
      ],
      "text/plain": [
       "      ┌───┐ ░                \n",
       "q0_0: ┤ H ├─░────────────────\n",
       "      ├───┤ ░                \n",
       "q0_1: ┤ H ├─░───■────────────\n",
       "      ├───┤ ░   │            \n",
       "q0_2: ┤ H ├─░───┼────■───────\n",
       "      ├───┤ ░   │    │       \n",
       "q0_3: ┤ H ├─░───┼────┼────■──\n",
       "      ├───┤ ░ ┌─┴─┐┌─┴─┐┌─┴─┐\n",
       "q0_4: ┤ H ├─░─┤ X ├┤ X ├┤ X ├\n",
       "      ├───┤ ░ └───┘└───┘└───┘\n",
       "q0_5: ┤ H ├─░────────────────\n",
       "      ├───┤ ░                \n",
       "q0_6: ┤ H ├─░────────────────\n",
       "      ├───┤ ░                \n",
       "q0_7: ┤ H ├─░────────────────\n",
       "      └───┘ ░                \n",
       "c0: 8/═══════════════════════\n",
       "                             "
      ]
     },
     "execution_count": 7,
     "metadata": {},
     "output_type": "execute_result"
    }
   ],
   "source": [
    "circ.draw()"
   ]
  },
  {
   "cell_type": "code",
   "execution_count": 8,
   "id": "28596bb8-ddc8-4619-a28d-1545e6abb994",
   "metadata": {},
   "outputs": [
    {
     "data": {
      "text/plain": [
       "<qiskit.circuit.instructionset.InstructionSet at 0x13918679120>"
      ]
     },
     "execution_count": 8,
     "metadata": {},
     "output_type": "execute_result"
    }
   ],
   "source": [
    "circ.cx(4,5)\n",
    "circ.cx(4,6)\n",
    "circ.cx(4,7)\n",
    "circ.barrier()"
   ]
  },
  {
   "cell_type": "code",
   "execution_count": null,
   "id": "b840c592-acef-4966-b6c2-7b953d1e9ae9",
   "metadata": {},
   "outputs": [],
   "source": [
    "##Dalia, Bob et Charlie appliquent une porte CNOT à leur qubit respectif qui représente le réultat qu'annonce Alice"
   ]
  },
  {
   "cell_type": "code",
   "execution_count": 10,
   "id": "815a5ecb-b729-41dc-b74d-ccd3323e9ad3",
   "metadata": {},
   "outputs": [
    {
     "data": {
      "text/plain": [
       "<qiskit.circuit.instructionset.InstructionSet at 0x13918679ed0>"
      ]
     },
     "execution_count": 10,
     "metadata": {},
     "output_type": "execute_result"
    }
   ],
   "source": [
    "circ.cx(2,5)\n",
    "circ.cx(3,5)\n",
    "circ.barrier()"
   ]
  },
  {
   "cell_type": "code",
   "execution_count": null,
   "id": "1ff51aa0-7ff2-4d53-80ba-7fe2064090c4",
   "metadata": {},
   "outputs": [],
   "source": [
    "##Dalia annonce ce qu'elle vois devant elle "
   ]
  },
  {
   "cell_type": "code",
   "execution_count": 12,
   "id": "a0f1b47c-28b4-4d1e-a532-1d628d059157",
   "metadata": {},
   "outputs": [
    {
     "data": {
      "text/plain": [
       "<qiskit.circuit.instructionset.InstructionSet at 0x1391a6b3340>"
      ]
     },
     "execution_count": 12,
     "metadata": {},
     "output_type": "execute_result"
    }
   ],
   "source": [
    "circ.cx(5,6)\n",
    "circ.cx(5,7)\n",
    "circ.barrier()"
   ]
  },
  {
   "cell_type": "code",
   "execution_count": null,
   "id": "fc8f10de-a80a-4253-96b0-142c97b561b0",
   "metadata": {},
   "outputs": [],
   "source": [
    "##Bot et Charlie appliquent une porte CNOT à leur qubit respectif qui représente le réultat qu'annonce Dalia"
   ]
  },
  {
   "cell_type": "code",
   "execution_count": 13,
   "id": "d7d6c34b-04a2-4c4c-b449-c9ec7e077589",
   "metadata": {},
   "outputs": [
    {
     "data": {
      "text/plain": [
       "<qiskit.circuit.instructionset.InstructionSet at 0x1391a6b2fb0>"
      ]
     },
     "execution_count": 13,
     "metadata": {},
     "output_type": "execute_result"
    }
   ],
   "source": [
    "circ.draw()"
   ]
  },
  {
   "cell_type": "code",
   "execution_count": 14,
   "id": "6d1f43c8-0d4e-4c36-991b-d18a66ac110f",
   "metadata": {},
   "outputs": [
    {
     "data": {
      "text/plain": [
       "<qiskit.circuit.instructionset.InstructionSet at 0x1391a6b30d0>"
      ]
     },
     "execution_count": 14,
     "metadata": {},
     "output_type": "execute_result"
    }
   ],
   "source": [
    "circ.cx(3,6)\n",
    "circ.barrier()"
   ]
  },
  {
   "cell_type": "code",
   "execution_count": null,
   "id": "d87a6a9b-56c7-46c3-b86b-0b000aeb9c83",
   "metadata": {},
   "outputs": [],
   "source": [
    "##Bob annonce ce qu'il vois devant lui "
   ]
  },
  {
   "cell_type": "code",
   "execution_count": null,
   "id": "afbe8468-c0f2-45d7-a2b9-550922c232fe",
   "metadata": {},
   "outputs": [],
   "source": [
    "##Charlie appliquent une porte CNOT à leur qubit respectif qui représente le réultat qu'annonce Bob"
   ]
  },
  {
   "cell_type": "code",
   "execution_count": 15,
   "id": "6653e796-0f9d-4479-8711-e2d502a26632",
   "metadata": {},
   "outputs": [
    {
     "data": {
      "text/plain": [
       "<qiskit.circuit.instructionset.InstructionSet at 0x1391a6b31c0>"
      ]
     },
     "execution_count": 15,
     "metadata": {},
     "output_type": "execute_result"
    }
   ],
   "source": [
    "circ.barrier()"
   ]
  },
  {
   "cell_type": "code",
   "execution_count": 16,
   "id": "59fa3dfe-8fc4-4133-9a21-e74c05f67bbc",
   "metadata": {},
   "outputs": [
    {
     "data": {
      "text/plain": [
       "<qiskit.circuit.instructionset.InstructionSet at 0x1391a6b3550>"
      ]
     },
     "execution_count": 16,
     "metadata": {},
     "output_type": "execute_result"
    }
   ],
   "source": [
    "circ.cx(6,7)"
   ]
  },
  {
   "cell_type": "code",
   "execution_count": null,
   "id": "eec5f114-00f9-4857-b40b-a0333878368f",
   "metadata": {},
   "outputs": [],
   "source": [
    "##Charlie annonce donc se qu'il a en fonction des reponces des autres"
   ]
  },
  {
   "cell_type": "code",
   "execution_count": 18,
   "id": "a03a85fe-3a80-422c-b634-cc51a792a1ec",
   "metadata": {
    "tags": []
   },
   "outputs": [
    {
     "data": {
      "image/png": "[encoded data removed]",
      "text/plain": [
       "<Figure size 1559.69x785.944 with 1 Axes>"
      ]
     },
     "execution_count": 18,
     "metadata": {},
     "output_type": "execute_result"
    }
   ],
   "source": [
    "circuit_drawer(circ, output='mpl', style=\"clifford\")"
   ]
  },
  {
   "cell_type": "code",
   "execution_count": 19,
   "id": "776e6f21-e551-4967-911f-fcc5a29794f0",
   "metadata": {
    "tags": []
   },
   "outputs": [
    {
     "data": {
      "text/html": [
       "<pre style=\"word-wrap: normal;white-space: pre;background: #fff0;line-height: 1.1;font-family: &quot;Courier New&quot;,Courier,monospace\">      ┌───┐ ░                                ░                      ░       ░ »\n",
       "q0_0: ┤ H ├─░────────────────────────────────░──────────────────────░───────░─»\n",
       "      ├───┤ ░                                ░                      ░       ░ »\n",
       "q0_1: ┤ H ├─░───■────────────────────────────░──────────────────────░───────░─»\n",
       "      ├───┤ ░   │                            ░                      ░       ░ »\n",
       "q0_2: ┤ H ├─░───┼────■───────────────────────░───■──────────────────░───────░─»\n",
       "      ├───┤ ░   │    │                       ░   │                  ░       ░ »\n",
       "q0_3: ┤ H ├─░───┼────┼────■──────────────────░───┼────■─────────────░───■───░─»\n",
       "      ├───┤ ░ ┌─┴─┐┌─┴─┐┌─┴─┐                ░   │    │             ░   │   ░ »\n",
       "q0_4: ┤ H ├─░─┤ X ├┤ X ├┤ X ├──■────■────■───░───┼────┼─────────────░───┼───░─»\n",
       "      ├───┤ ░ └───┘└───┘└───┘┌─┴─┐  │    │   ░ ┌─┴─┐┌─┴─┐           ░   │   ░ »\n",
       "q0_5: ┤ H ├─░────────────────┤ X ├──┼────┼───░─┤ X ├┤ X ├──■────■───░───┼───░─»\n",
       "      ├───┤ ░                └───┘┌─┴─┐  │   ░ └───┘└───┘┌─┴─┐  │   ░ ┌─┴─┐ ░ »\n",
       "q0_6: ┤ H ├─░─────────────────────┤ X ├──┼───░───────────┤ X ├──┼───░─┤ X ├─░─»\n",
       "      ├───┤ ░                     └───┘┌─┴─┐ ░           └───┘┌─┴─┐ ░ └───┘ ░ »\n",
       "q0_7: ┤ H ├─░──────────────────────────┤ X ├─░────────────────┤ X ├─░───────░─»\n",
       "      └───┘ ░                          └───┘ ░                └───┘ ░       ░ »\n",
       "c0: 8/════════════════════════════════════════════════════════════════════════»\n",
       "                                                                              »\n",
       "«           ┌─┐                     \n",
       "«q0_0: ─────┤M├─────────────────────\n",
       "«           └╥┘┌─┐                  \n",
       "«q0_1: ──────╫─┤M├──────────────────\n",
       "«            ║ └╥┘┌─┐               \n",
       "«q0_2: ──────╫──╫─┤M├───────────────\n",
       "«            ║  ║ └╥┘┌─┐            \n",
       "«q0_3: ──────╫──╫──╫─┤M├────────────\n",
       "«            ║  ║  ║ └╥┘┌─┐         \n",
       "«q0_4: ──────╫──╫──╫──╫─┤M├─────────\n",
       "«            ║  ║  ║  ║ └╥┘┌─┐      \n",
       "«q0_5: ──────╫──╫──╫──╫──╫─┤M├──────\n",
       "«            ║  ║  ║  ║  ║ └╥┘┌─┐   \n",
       "«q0_6: ──■───╫──╫──╫──╫──╫──╫─┤M├───\n",
       "«      ┌─┴─┐ ║  ║  ║  ║  ║  ║ └╥┘┌─┐\n",
       "«q0_7: ┤ X ├─╫──╫──╫──╫──╫──╫──╫─┤M├\n",
       "«      └───┘ ║  ║  ║  ║  ║  ║  ║ └╥┘\n",
       "«c0: 8/══════╩══╩══╩══╩══╩══╩══╩══╩═\n",
       "«            0  1  2  3  4  5  6  7 </pre>"
      ],
      "text/plain": [
       "      ┌───┐ ░                                ░                      ░       ░ »\n",
       "q0_0: ┤ H ├─░────────────────────────────────░──────────────────────░───────░─»\n",
       "      ├───┤ ░                                ░                      ░       ░ »\n",
       "q0_1: ┤ H ├─░───■────────────────────────────░──────────────────────░───────░─»\n",
       "      ├───┤ ░   │                            ░                      ░       ░ »\n",
       "q0_2: ┤ H ├─░───┼────■───────────────────────░───■──────────────────░───────░─»\n",
       "      ├───┤ ░   │    │                       ░   │                  ░       ░ »\n",
       "q0_3: ┤ H ├─░───┼────┼────■──────────────────░───┼────■─────────────░───■───░─»\n",
       "      ├───┤ ░ ┌─┴─┐┌─┴─┐┌─┴─┐                ░   │    │             ░   │   ░ »\n",
       "q0_4: ┤ H ├─░─┤ X ├┤ X ├┤ X ├──■────■────■───░───┼────┼─────────────░───┼───░─»\n",
       "      ├───┤ ░ └───┘└───┘└───┘┌─┴─┐  │    │   ░ ┌─┴─┐┌─┴─┐           ░   │   ░ »\n",
       "q0_5: ┤ H ├─░────────────────┤ X ├──┼────┼───░─┤ X ├┤ X ├──■────■───░───┼───░─»\n",
       "      ├───┤ ░                └───┘┌─┴─┐  │   ░ └───┘└───┘┌─┴─┐  │   ░ ┌─┴─┐ ░ »\n",
       "q0_6: ┤ H ├─░─────────────────────┤ X ├──┼───░───────────┤ X ├──┼───░─┤ X ├─░─»\n",
       "      ├───┤ ░                     └───┘┌─┴─┐ ░           └───┘┌─┴─┐ ░ └───┘ ░ »\n",
       "q0_7: ┤ H ├─░──────────────────────────┤ X ├─░────────────────┤ X ├─░───────░─»\n",
       "      └───┘ ░                          └───┘ ░                └───┘ ░       ░ »\n",
       "c0: 8/════════════════════════════════════════════════════════════════════════»\n",
       "                                                                              »\n",
       "«           ┌─┐                     \n",
       "«q0_0: ─────┤M├─────────────────────\n",
       "«           └╥┘┌─┐                  \n",
       "«q0_1: ──────╫─┤M├──────────────────\n",
       "«            ║ └╥┘┌─┐               \n",
       "«q0_2: ──────╫──╫─┤M├───────────────\n",
       "«            ║  ║ └╥┘┌─┐            \n",
       "«q0_3: ──────╫──╫──╫─┤M├────────────\n",
       "«            ║  ║  ║ └╥┘┌─┐         \n",
       "«q0_4: ──────╫──╫──╫──╫─┤M├─────────\n",
       "«            ║  ║  ║  ║ └╥┘┌─┐      \n",
       "«q0_5: ──────╫──╫──╫──╫──╫─┤M├──────\n",
       "«            ║  ║  ║  ║  ║ └╥┘┌─┐   \n",
       "«q0_6: ──■───╫──╫──╫──╫──╫──╫─┤M├───\n",
       "«      ┌─┴─┐ ║  ║  ║  ║  ║  ║ └╥┘┌─┐\n",
       "«q0_7: ┤ X ├─╫──╫──╫──╫──╫──╫──╫─┤M├\n",
       "«      └───┘ ║  ║  ║  ║  ║  ║  ║ └╥┘\n",
       "«c0: 8/══════╩══╩══╩══╩══╩══╩══╩══╩═\n",
       "«            0  1  2  3  4  5  6  7 "
      ]
     },
     "execution_count": 19,
     "metadata": {},
     "output_type": "execute_result"
    }
   ],
   "source": [
    "circ.measure(q, c)\n",
    "##Les participants mesurent finalement la couleur de leurs propres cheveux, représentée par les qubits, et stockent les résultats dans le registre classique.\n",
    "## Visualisation du circuit\n",
    "circ.draw()"
   ]
  },
  {
   "cell_type": "code",
   "execution_count": null,
   "id": "03f12089-03a8-4464-bb4b-aab02375f486",
   "metadata": {},
   "outputs": [],
   "source": []
  }
 ],
 "metadata": {
  "kernelspec": {
   "display_name": "Python 3 (ipykernel)",
   "language": "python",
   "name": "python3"
  },
  "language_info": {
   "codemirror_mode": {
    "name": "ipython",
    "version": 3
   },
   "file_extension": ".py",
   "mimetype": "text/x-python",
   "name": "python",
   "nbconvert_exporter": "python",
   "pygments_lexer": "ipython3",
   "version": "3.11.5"
  }
 },
 "nbformat": 4,
 "nbformat_minor": 5
}
