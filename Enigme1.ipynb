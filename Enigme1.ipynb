{
 "cells": [
  {
   "cell_type": "code",
   "execution_count": 1,
   "id": "8efac550",
   "metadata": {},
   "outputs": [
    {
     "name": "stdout",
     "output_type": "stream",
     "text": [
      "Requirement already satisfied: qiskit in c:\\users\\ilies\\anaconda3\\lib\\site-packages (0.45.0)\n",
      "Requirement already satisfied: qiskit-terra==0.45.0 in c:\\users\\ilies\\anaconda3\\lib\\site-packages (from qiskit) (0.45.0)\n",
      "Requirement already satisfied: rustworkx>=0.13.0 in c:\\users\\ilies\\anaconda3\\lib\\site-packages (from qiskit-terra==0.45.0->qiskit) (0.13.2)\n",
      "Requirement already satisfied: numpy<2,>=1.17 in c:\\users\\ilies\\anaconda3\\lib\\site-packages (from qiskit-terra==0.45.0->qiskit) (1.24.3)\n",
      "Requirement already satisfied: ply>=3.10 in c:\\users\\ilies\\anaconda3\\lib\\site-packages (from qiskit-terra==0.45.0->qiskit) (3.11)\n",
      "Requirement already satisfied: psutil>=5 in c:\\users\\ilies\\anaconda3\\lib\\site-packages (from qiskit-terra==0.45.0->qiskit) (5.9.0)\n",
      "Requirement already satisfied: scipy>=1.5 in c:\\users\\ilies\\anaconda3\\lib\\site-packages (from qiskit-terra==0.45.0->qiskit) (1.11.1)\n",
      "Requirement already satisfied: sympy>=1.3 in c:\\users\\ilies\\anaconda3\\lib\\site-packages (from qiskit-terra==0.45.0->qiskit) (1.11.1)\n",
      "Requirement already satisfied: dill>=0.3 in c:\\users\\ilies\\anaconda3\\lib\\site-packages (from qiskit-terra==0.45.0->qiskit) (0.3.6)\n",
      "Requirement already satisfied: python-dateutil>=2.8.0 in c:\\users\\ilies\\anaconda3\\lib\\site-packages (from qiskit-terra==0.45.0->qiskit) (2.8.2)\n",
      "Requirement already satisfied: stevedore>=3.0.0 in c:\\users\\ilies\\anaconda3\\lib\\site-packages (from qiskit-terra==0.45.0->qiskit) (5.1.0)\n",
      "Requirement already satisfied: six>=1.5 in c:\\users\\ilies\\anaconda3\\lib\\site-packages (from python-dateutil>=2.8.0->qiskit-terra==0.45.0->qiskit) (1.16.0)\n",
      "Requirement already satisfied: pbr!=2.1.0,>=2.0.0 in c:\\users\\ilies\\anaconda3\\lib\\site-packages (from stevedore>=3.0.0->qiskit-terra==0.45.0->qiskit) (5.11.1)\n",
      "Requirement already satisfied: mpmath>=0.19 in c:\\users\\ilies\\anaconda3\\lib\\site-packages (from sympy>=1.3->qiskit-terra==0.45.0->qiskit) (1.3.0)\n"
     ]
    }
   ],
   "source": [
    "!pip install qiskit"
   ]
  },
  {
   "cell_type": "code",
   "execution_count": 2,
   "id": "483cd2d0",
   "metadata": {},
   "outputs": [
    {
     "name": "stdout",
     "output_type": "stream",
     "text": [
      "Requirement already satisfied: pylatexenc in c:\\users\\ilies\\anaconda3\\lib\\site-packages (2.10)\n"
     ]
    }
   ],
   "source": [
    "!pip install pylatexenc"
   ]
  },
  {
   "cell_type": "code",
   "execution_count": 3,
   "id": "8300040c",
   "metadata": {},
   "outputs": [
    {
     "name": "stdout",
     "output_type": "stream",
     "text": [
      "Requirement already satisfied: qiskit-aer in c:\\users\\ilies\\anaconda3\\lib\\site-packages (0.13.0)\n",
      "Requirement already satisfied: qiskit>=0.44.0 in c:\\users\\ilies\\anaconda3\\lib\\site-packages (from qiskit-aer) (0.45.0)\n",
      "Requirement already satisfied: numpy>=1.16.3 in c:\\users\\ilies\\anaconda3\\lib\\site-packages (from qiskit-aer) (1.24.3)\n",
      "Requirement already satisfied: scipy>=1.0 in c:\\users\\ilies\\anaconda3\\lib\\site-packages (from qiskit-aer) (1.11.1)\n",
      "Requirement already satisfied: qiskit-terra==0.45.0 in c:\\users\\ilies\\anaconda3\\lib\\site-packages (from qiskit>=0.44.0->qiskit-aer) (0.45.0)\n",
      "Requirement already satisfied: rustworkx>=0.13.0 in c:\\users\\ilies\\anaconda3\\lib\\site-packages (from qiskit-terra==0.45.0->qiskit>=0.44.0->qiskit-aer) (0.13.2)\n",
      "Requirement already satisfied: ply>=3.10 in c:\\users\\ilies\\anaconda3\\lib\\site-packages (from qiskit-terra==0.45.0->qiskit>=0.44.0->qiskit-aer) (3.11)\n",
      "Requirement already satisfied: psutil>=5 in c:\\users\\ilies\\anaconda3\\lib\\site-packages (from qiskit-terra==0.45.0->qiskit>=0.44.0->qiskit-aer) (5.9.0)\n",
      "Requirement already satisfied: sympy>=1.3 in c:\\users\\ilies\\anaconda3\\lib\\site-packages (from qiskit-terra==0.45.0->qiskit>=0.44.0->qiskit-aer) (1.11.1)\n",
      "Requirement already satisfied: dill>=0.3 in c:\\users\\ilies\\anaconda3\\lib\\site-packages (from qiskit-terra==0.45.0->qiskit>=0.44.0->qiskit-aer) (0.3.6)\n",
      "Requirement already satisfied: python-dateutil>=2.8.0 in c:\\users\\ilies\\anaconda3\\lib\\site-packages (from qiskit-terra==0.45.0->qiskit>=0.44.0->qiskit-aer) (2.8.2)\n",
      "Requirement already satisfied: stevedore>=3.0.0 in c:\\users\\ilies\\anaconda3\\lib\\site-packages (from qiskit-terra==0.45.0->qiskit>=0.44.0->qiskit-aer) (5.1.0)\n",
      "Requirement already satisfied: six>=1.5 in c:\\users\\ilies\\anaconda3\\lib\\site-packages (from python-dateutil>=2.8.0->qiskit-terra==0.45.0->qiskit>=0.44.0->qiskit-aer) (1.16.0)\n",
      "Requirement already satisfied: pbr!=2.1.0,>=2.0.0 in c:\\users\\ilies\\anaconda3\\lib\\site-packages (from stevedore>=3.0.0->qiskit-terra==0.45.0->qiskit>=0.44.0->qiskit-aer) (5.11.1)\n",
      "Requirement already satisfied: mpmath>=0.19 in c:\\users\\ilies\\anaconda3\\lib\\site-packages (from sympy>=1.3->qiskit-terra==0.45.0->qiskit>=0.44.0->qiskit-aer) (1.3.0)\n"
     ]
    }
   ],
   "source": [
    "!pip install qiskit-aer"
   ]
  },
  {
   "cell_type": "code",
   "execution_count": 4,
   "id": "9603a5cd",
   "metadata": {},
   "outputs": [],
   "source": [
    "#On installe qiskit, pylatexenc et qiskit-aer"
   ]
  },
  {
   "cell_type": "code",
   "execution_count": 5,
   "id": "bc871301",
   "metadata": {},
   "outputs": [],
   "source": [
    "import numpy as np"
   ]
  },
  {
   "cell_type": "code",
   "execution_count": 6,
   "id": "8431b4c9",
   "metadata": {},
   "outputs": [],
   "source": [
    "from qiskit import *"
   ]
  },
  {
   "cell_type": "code",
   "execution_count": 7,
   "id": "2756979a",
   "metadata": {},
   "outputs": [],
   "source": [
    "from qiskit import transpile, QuantumCircuit, execute, Aer"
   ]
  },
  {
   "cell_type": "code",
   "execution_count": 8,
   "id": "45f07e9b",
   "metadata": {},
   "outputs": [],
   "source": [
    "from qiskit.visualization import circuit_drawer"
   ]
  },
  {
   "cell_type": "code",
   "execution_count": 9,
   "id": "88f82357",
   "metadata": {},
   "outputs": [],
   "source": [
    "import qiskit\n",
    "import matplotlib"
   ]
  },
  {
   "cell_type": "code",
   "execution_count": 10,
   "id": "30c7975c",
   "metadata": {},
   "outputs": [],
   "source": [
    "#On importe toute les bibliothèque nécessaire (numpy, transpile, circuit_drawer, matplotlib, ...)"
   ]
  },
  {
   "cell_type": "code",
   "execution_count": 11,
   "id": "91faf71e",
   "metadata": {},
   "outputs": [],
   "source": [
    "q = QuantumRegister(3)\n",
    "c = ClassicalRegister(3)\n",
    "circ = QuantumCircuit(q, c)"
   ]
  },
  {
   "cell_type": "code",
   "execution_count": 12,
   "id": "0a5fa5f9",
   "metadata": {},
   "outputs": [],
   "source": [
    "#On créer des registres quantiques et classiques de 3 entités.\n",
    "#q(0)= 1er gardien, q(1)=deuxième gardien, q(2)=mensonge"
   ]
  },
  {
   "cell_type": "code",
   "execution_count": 13,
   "id": "379c091d",
   "metadata": {},
   "outputs": [
    {
     "data": {
      "text/plain": [
       "<qiskit.circuit.instructionset.InstructionSet at 0x2bbd7105150>"
      ]
     },
     "execution_count": 13,
     "metadata": {},
     "output_type": "execute_result"
    }
   ],
   "source": [
    "circ.h(0)"
   ]
  },
  {
   "cell_type": "code",
   "execution_count": 14,
   "id": "7134c5ad",
   "metadata": {},
   "outputs": [
    {
     "data": {
      "text/plain": [
       "<qiskit.circuit.instructionset.InstructionSet at 0x2bbd7105840>"
      ]
     },
     "execution_count": 14,
     "metadata": {},
     "output_type": "execute_result"
    }
   ],
   "source": [
    "circ.cx(0,1)"
   ]
  },
  {
   "cell_type": "code",
   "execution_count": 15,
   "id": "2ec32a5a",
   "metadata": {},
   "outputs": [
    {
     "data": {
      "text/html": [
       "<pre style=\"word-wrap: normal;white-space: pre;background: #fff0;line-height: 1.1;font-family: &quot;Courier New&quot;,Courier,monospace\">      ┌───┐     \n",
       "q0_0: ┤ H ├──■──\n",
       "      └───┘┌─┴─┐\n",
       "q0_1: ─────┤ X ├\n",
       "           └───┘\n",
       "q0_2: ──────────\n",
       "                \n",
       "c0: 3/══════════\n",
       "                </pre>"
      ],
      "text/plain": [
       "      ┌───┐     \n",
       "q0_0: ┤ H ├──■──\n",
       "      └───┘┌─┴─┐\n",
       "q0_1: ─────┤ X ├\n",
       "           └───┘\n",
       "q0_2: ──────────\n",
       "                \n",
       "c0: 3/══════════\n",
       "                "
      ]
     },
     "execution_count": 15,
     "metadata": {},
     "output_type": "execute_result"
    }
   ],
   "source": [
    "circ.draw()"
   ]
  },
  {
   "cell_type": "code",
   "execution_count": 16,
   "id": "99c2f753",
   "metadata": {},
   "outputs": [],
   "source": [
    "#On place le trésor de manière aléatoire en ajouter une porte Hadamard sur q(0) et q(2) pour avoir une probabilité de 50%. \n",
    "#On place ensuite une porte CNOT pour que q(0)et Q(1) voie la même chose"
   ]
  },
  {
   "cell_type": "code",
   "execution_count": 17,
   "id": "cbb10906",
   "metadata": {},
   "outputs": [
    {
     "data": {
      "text/plain": [
       "<qiskit.circuit.instructionset.InstructionSet at 0x2bbd7105cf0>"
      ]
     },
     "execution_count": 17,
     "metadata": {},
     "output_type": "execute_result"
    }
   ],
   "source": [
    "circ.cx(2,1)"
   ]
  },
  {
   "cell_type": "code",
   "execution_count": 18,
   "id": "8227ba85",
   "metadata": {},
   "outputs": [
    {
     "data": {
      "text/plain": [
       "<qiskit.circuit.instructionset.InstructionSet at 0x2bbd71059f0>"
      ]
     },
     "execution_count": 18,
     "metadata": {},
     "output_type": "execute_result"
    }
   ],
   "source": [
    "circ.x(2)"
   ]
  },
  {
   "cell_type": "code",
   "execution_count": 19,
   "id": "98acb1e5",
   "metadata": {},
   "outputs": [
    {
     "data": {
      "text/html": [
       "<pre style=\"word-wrap: normal;white-space: pre;background: #fff0;line-height: 1.1;font-family: &quot;Courier New&quot;,Courier,monospace\">      ┌───┐               \n",
       "q0_0: ┤ H ├──■────────────\n",
       "      └───┘┌─┴─┐┌───┐     \n",
       "q0_1: ─────┤ X ├┤ X ├─────\n",
       "           └───┘└─┬─┘┌───┐\n",
       "q0_2: ────────────■──┤ X ├\n",
       "                     └───┘\n",
       "c0: 3/════════════════════\n",
       "                          </pre>"
      ],
      "text/plain": [
       "      ┌───┐               \n",
       "q0_0: ┤ H ├──■────────────\n",
       "      └───┘┌─┴─┐┌───┐     \n",
       "q0_1: ─────┤ X ├┤ X ├─────\n",
       "           └───┘└─┬─┘┌───┐\n",
       "q0_2: ────────────■──┤ X ├\n",
       "                     └───┘\n",
       "c0: 3/════════════════════\n",
       "                          "
      ]
     },
     "execution_count": 19,
     "metadata": {},
     "output_type": "execute_result"
    }
   ],
   "source": [
    "circ.draw()"
   ]
  },
  {
   "cell_type": "code",
   "execution_count": 20,
   "id": "ba1a6085",
   "metadata": {},
   "outputs": [
    {
     "data": {
      "text/plain": [
       "<qiskit.circuit.instructionset.InstructionSet at 0x2bbd7106320>"
      ]
     },
     "execution_count": 20,
     "metadata": {},
     "output_type": "execute_result"
    }
   ],
   "source": [
    "circ.cx(2,0)"
   ]
  },
  {
   "cell_type": "code",
   "execution_count": 21,
   "id": "86d222c6",
   "metadata": {},
   "outputs": [
    {
     "data": {
      "text/plain": [
       "<qiskit.circuit.instructionset.InstructionSet at 0x2bbd71061a0>"
      ]
     },
     "execution_count": 21,
     "metadata": {},
     "output_type": "execute_result"
    }
   ],
   "source": [
    "circ.x(2)"
   ]
  },
  {
   "cell_type": "code",
   "execution_count": 22,
   "id": "0c83b961",
   "metadata": {},
   "outputs": [
    {
     "data": {
      "image/png": "[encoded data removed]",
      "text/plain": [
       "<Figure size 639.969x367.889 with 1 Axes>"
      ]
     },
     "execution_count": 22,
     "metadata": {},
     "output_type": "execute_result"
    }
   ],
   "source": [
    "circuit_drawer(circ, output='mpl', style=\"clifford\")"
   ]
  },
  {
   "cell_type": "code",
   "execution_count": 23,
   "id": "3fc344dd",
   "metadata": {},
   "outputs": [],
   "source": [
    "#Cette première partie est pour la question \"Le trésor ce trouve derière quelle porte\""
   ]
  },
  {
   "cell_type": "code",
   "execution_count": 24,
   "id": "c665c996",
   "metadata": {},
   "outputs": [
    {
     "data": {
      "text/plain": [
       "<qiskit.circuit.instructionset.InstructionSet at 0x2bbd8afb670>"
      ]
     },
     "execution_count": 24,
     "metadata": {},
     "output_type": "execute_result"
    }
   ],
   "source": [
    "circ.swap(0,1)"
   ]
  },
  {
   "cell_type": "code",
   "execution_count": 25,
   "id": "19aa8403",
   "metadata": {},
   "outputs": [
    {
     "data": {
      "text/plain": [
       "<qiskit.circuit.instructionset.InstructionSet at 0x2bbd8afb9a0>"
      ]
     },
     "execution_count": 25,
     "metadata": {},
     "output_type": "execute_result"
    }
   ],
   "source": [
    "circ.x(0)"
   ]
  },
  {
   "cell_type": "code",
   "execution_count": 26,
   "id": "64fdb05b",
   "metadata": {},
   "outputs": [
    {
     "data": {
      "text/plain": [
       "<qiskit.circuit.instructionset.InstructionSet at 0x2bbd8afbbb0>"
      ]
     },
     "execution_count": 26,
     "metadata": {},
     "output_type": "execute_result"
    }
   ],
   "source": [
    "circ.x(1)"
   ]
  },
  {
   "cell_type": "code",
   "execution_count": 27,
   "id": "e2ccb3fc",
   "metadata": {},
   "outputs": [
    {
     "data": {
      "text/plain": [
       "<qiskit.circuit.instructionset.InstructionSet at 0x2bbd8afb700>"
      ]
     },
     "execution_count": 27,
     "metadata": {},
     "output_type": "execute_result"
    }
   ],
   "source": [
    "circ.cx(2,1)"
   ]
  },
  {
   "cell_type": "code",
   "execution_count": 28,
   "id": "1c0fe467",
   "metadata": {},
   "outputs": [
    {
     "data": {
      "text/plain": [
       "<qiskit.circuit.instructionset.InstructionSet at 0x2bbd27b5360>"
      ]
     },
     "execution_count": 28,
     "metadata": {},
     "output_type": "execute_result"
    }
   ],
   "source": [
    "circ.x(2)"
   ]
  },
  {
   "cell_type": "code",
   "execution_count": 29,
   "id": "db238755",
   "metadata": {},
   "outputs": [
    {
     "data": {
      "text/plain": [
       "<qiskit.circuit.instructionset.InstructionSet at 0x2bbd27b6ce0>"
      ]
     },
     "execution_count": 29,
     "metadata": {},
     "output_type": "execute_result"
    }
   ],
   "source": [
    "circ.cx(2,0)"
   ]
  },
  {
   "cell_type": "code",
   "execution_count": 30,
   "id": "6033e71c",
   "metadata": {},
   "outputs": [
    {
     "data": {
      "text/plain": [
       "<qiskit.circuit.instructionset.InstructionSet at 0x2bbd27b76d0>"
      ]
     },
     "execution_count": 30,
     "metadata": {},
     "output_type": "execute_result"
    }
   ],
   "source": [
    "circ.x(2)"
   ]
  },
  {
   "cell_type": "code",
   "execution_count": 31,
   "id": "0b9bcd87",
   "metadata": {},
   "outputs": [
    {
     "data": {
      "text/html": [
       "<pre style=\"word-wrap: normal;white-space: pre;background: #fff0;line-height: 1.1;font-family: &quot;Courier New&quot;,Courier,monospace\">      ┌───┐               ┌───┐     ┌───┐          ┌───┐     \n",
       "q0_0: ┤ H ├──■────────────┤ X ├──X──┤ X ├──────────┤ X ├─────\n",
       "      └───┘┌─┴─┐┌───┐     └─┬─┘  │  ├───┤┌───┐     └─┬─┘     \n",
       "q0_1: ─────┤ X ├┤ X ├───────┼────X──┤ X ├┤ X ├───────┼───────\n",
       "           └───┘└─┬─┘┌───┐  │  ┌───┐└───┘└─┬─┘┌───┐  │  ┌───┐\n",
       "q0_2: ────────────■──┤ X ├──■──┤ X ├───────■──┤ X ├──■──┤ X ├\n",
       "                     └───┘     └───┘          └───┘     └───┘\n",
       "c0: 3/═══════════════════════════════════════════════════════\n",
       "                                                             </pre>"
      ],
      "text/plain": [
       "      ┌───┐               ┌───┐     ┌───┐          ┌───┐     \n",
       "q0_0: ┤ H ├──■────────────┤ X ├──X──┤ X ├──────────┤ X ├─────\n",
       "      └───┘┌─┴─┐┌───┐     └─┬─┘  │  ├───┤┌───┐     └─┬─┘     \n",
       "q0_1: ─────┤ X ├┤ X ├───────┼────X──┤ X ├┤ X ├───────┼───────\n",
       "           └───┘└─┬─┘┌───┐  │  ┌───┐└───┘└─┬─┘┌───┐  │  ┌───┐\n",
       "q0_2: ────────────■──┤ X ├──■──┤ X ├───────■──┤ X ├──■──┤ X ├\n",
       "                     └───┘     └───┘          └───┘     └───┘\n",
       "c0: 3/═══════════════════════════════════════════════════════\n",
       "                                                             "
      ]
     },
     "execution_count": 31,
     "metadata": {},
     "output_type": "execute_result"
    }
   ],
   "source": [
    "circ.draw()"
   ]
  },
  {
   "cell_type": "code",
   "execution_count": 32,
   "id": "7f921982",
   "metadata": {},
   "outputs": [
    {
     "data": {
      "image/png": "[encoded data removed]",
      "text/plain": [
       "<Figure size 1058.03x367.889 with 1 Axes>"
      ]
     },
     "execution_count": 32,
     "metadata": {},
     "output_type": "execute_result"
    }
   ],
   "source": [
    "circuit_drawer(circ, output='mpl', style=\"clifford\")"
   ]
  },
  {
   "cell_type": "code",
   "execution_count": 33,
   "id": "e17bff24",
   "metadata": {},
   "outputs": [],
   "source": [
    "#Cette deuxième partie est pour la question \"Quelle porte l'autre gardien me dirait de ne pas prendre\""
   ]
  },
  {
   "cell_type": "code",
   "execution_count": 34,
   "id": "d67ab76e",
   "metadata": {},
   "outputs": [],
   "source": [
    "# On mesure les qubits et on stocks les résultats dans les cbits"
   ]
  },
  {
   "cell_type": "code",
   "execution_count": 35,
   "id": "27d13708",
   "metadata": {},
   "outputs": [
    {
     "data": {
      "text/plain": [
       "<qiskit.circuit.instructionset.InstructionSet at 0x2bbd8ba5300>"
      ]
     },
     "execution_count": 35,
     "metadata": {},
     "output_type": "execute_result"
    }
   ],
   "source": [
    "circ.measure(q, c)"
   ]
  },
  {
   "cell_type": "code",
   "execution_count": 40,
   "id": "8b537398",
   "metadata": {},
   "outputs": [],
   "source": [
    "#On exécute le circuit sur un simulateur sur 1000 essaies"
   ]
  },
  {
   "cell_type": "code",
   "execution_count": 41,
   "id": "a694de54",
   "metadata": {},
   "outputs": [],
   "source": [
    "simulator = Aer.get_backend('qasm_simulator')\n",
    "job = execute(circ, simulator, shots=1000)\n",
    "result = job.result()"
   ]
  },
  {
   "cell_type": "code",
   "execution_count": 42,
   "id": "d2b680d8",
   "metadata": {},
   "outputs": [],
   "source": [
    "# On obtien les résultats de la mesure"
   ]
  },
  {
   "cell_type": "code",
   "execution_count": 43,
   "id": "ed946255",
   "metadata": {},
   "outputs": [
    {
     "name": "stdout",
     "output_type": "stream",
     "text": [
      "{'000': 479, '011': 521}\n"
     ]
    }
   ],
   "source": [
    "counts = result.get_counts(circ)\n",
    "print(counts)"
   ]
  },
  {
   "cell_type": "code",
   "execution_count": null,
   "id": "f5400b1e",
   "metadata": {},
   "outputs": [],
   "source": [
    "#Le résultat montre que le trésor est derrière la porte 1, car les deux gardiens sont d'accord et le mensonge a été détecté."
   ]
  }
 ],
 "metadata": {
  "kernelspec": {
   "display_name": "Python 3 (ipykernel)",
   "language": "python",
   "name": "python3"
  },
  "language_info": {
   "codemirror_mode": {
    "name": "ipython",
    "version": 3
   },
   "file_extension": ".py",
   "mimetype": "text/x-python",
   "name": "python",
   "nbconvert_exporter": "python",
   "pygments_lexer": "ipython3",
   "version": "3.11.5"
  }
 },
 "nbformat": 4,
 "nbformat_minor": 5
}
